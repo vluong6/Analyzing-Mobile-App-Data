{
 "cells": [
  {
   "cell_type": "markdown",
   "metadata": {},
   "source": [
    "# Project 1: Profitable App Profiles for the App Store and Google Play Markets\n",
    "\n",
    "Scope: find mobile app profiles that are profitable for the App Store and Google Play markets\n",
    "\n",
    "Goal: Analyze data and understand what kind of apps are likely to attract more users"
   ]
  },
  {
   "cell_type": "markdown",
   "metadata": {},
   "source": [
    "# The Data\n",
    "\n",
    "- Existing data from Kaggle for more documentation\n",
    "\n",
    "- [Google Play Andriod apps](https://www.kaggle.com/lava18/google-play-store-apps/home) \n",
    "\n",
    "- [App Store iOS apps](https://www.kaggle.com/ramamet4/app-store-apple-data-set-10k-apps/home)"
   ]
  },
  {
   "cell_type": "markdown",
   "metadata": {},
   "source": [
    "# Open and Explore Data"
   ]
  },
  {
   "cell_type": "code",
   "execution_count": 1,
   "metadata": {
    "collapsed": false,
    "scrolled": true
   },
   "outputs": [
    {
     "name": "stdout",
     "output_type": "stream",
     "text": [
      "Opened datasets!!!\n"
     ]
    }
   ],
   "source": [
    "from csv import reader\n",
    "\n",
    "#Google Play\n",
    "open_google = open(\"googleplaystore.csv\", encoding = \"utf8\")\n",
    "read_google = reader(open_google)\n",
    "andriod_app_data = list(read_google) #list of list\n",
    "andriod_header = andriod_app_data[0]\n",
    "andriod_data = andriod_app_data[1:]\n",
    "\n",
    "#App Store\n",
    "open_app = open(\"AppleStore.csv\", encoding = \"utf8\")\n",
    "read_app = reader(open_app)\n",
    "ios_app_data = list(read_app)\n",
    "ios_header = ios_app_data[0]\n",
    "ios_data = ios_app_data[1:]\n",
    "\n",
    "print(\"Opened datasets!!!\")"
   ]
  },
  {
   "cell_type": "code",
   "execution_count": 2,
   "metadata": {
    "collapsed": false
   },
   "outputs": [
    {
     "name": "stdout",
     "output_type": "stream",
     "text": [
      "Exploring datasets . . . \n"
     ]
    }
   ],
   "source": [
    "def explore_data(dataset, start, end, rows_and_columns=False):\n",
    "    dataset_slice = dataset[start:end]    \n",
    "    for row in dataset_slice:\n",
    "        print(row)\n",
    "        print('\\n') # adds a new (empty) line between rows\n",
    "        \n",
    "    if rows_and_columns:\n",
    "        print('Number of rows:', len(dataset))\n",
    "        print('Number of columns:', len(dataset[0]))\n",
    "print(\"Exploring datasets . . . \")"
   ]
  },
  {
   "cell_type": "code",
   "execution_count": 3,
   "metadata": {
    "collapsed": false
   },
   "outputs": [
    {
     "name": "stdout",
     "output_type": "stream",
     "text": [
      "Google headers:\n",
      "['App', 'Category', 'Rating', 'Reviews', 'Size', 'Installs', 'Type', 'Price', 'Content Rating', 'Genres', 'Last Updated', 'Current Ver', 'Android Ver']\n",
      "\n",
      "Rows 1 - 3\n",
      "['Photo Editor & Candy Camera & Grid & ScrapBook', 'ART_AND_DESIGN', '4.1', '159', '19M', '10,000+', 'Free', '0', 'Everyone', 'Art & Design', 'January 7, 2018', '1.0.0', '4.0.3 and up']\n",
      "\n",
      "\n",
      "['Coloring book moana', 'ART_AND_DESIGN', '3.9', '967', '14M', '500,000+', 'Free', '0', 'Everyone', 'Art & Design;Pretend Play', 'January 15, 2018', '2.0.0', '4.0.3 and up']\n",
      "\n",
      "\n",
      "['U Launcher Lite – FREE Live Cool Themes, Hide Apps', 'ART_AND_DESIGN', '4.7', '87510', '8.7M', '5,000,000+', 'Free', '0', 'Everyone', 'Art & Design', 'August 1, 2018', '1.2.4', '4.0.3 and up']\n",
      "\n",
      "\n",
      "Number of rows: 10841\n",
      "Number of columns: 13\n",
      "\n",
      "\n",
      "App headers:\n",
      "['id', 'track_name', 'size_bytes', 'currency', 'price', 'rating_count_tot', 'rating_count_ver', 'user_rating', 'user_rating_ver', 'ver', 'cont_rating', 'prime_genre', 'sup_devices.num', 'ipadSc_urls.num', 'lang.num', 'vpp_lic']\n",
      "\n",
      "Rows 1 - 3\n",
      "['284882215', 'Facebook', '389879808', 'USD', '0.0', '2974676', '212', '3.5', '3.5', '95.0', '4+', 'Social Networking', '37', '1', '29', '1']\n",
      "\n",
      "\n",
      "['389801252', 'Instagram', '113954816', 'USD', '0.0', '2161558', '1289', '4.5', '4.0', '10.23', '12+', 'Photo & Video', '37', '0', '29', '1']\n",
      "\n",
      "\n",
      "['529479190', 'Clash of Clans', '116476928', 'USD', '0.0', '2130805', '579', '4.5', '4.5', '9.24.12', '9+', 'Games', '38', '5', '18', '1']\n",
      "\n",
      "\n",
      "Number of rows: 7197\n",
      "Number of columns: 16\n"
     ]
    }
   ],
   "source": [
    "print(\"Google headers:\")\n",
    "print(andriod_header)\n",
    "print(\"\\nRows 1 - 3\")\n",
    "explore_data(andriod_data, 0, 3, True)\n",
    "print(\"\\n\\nApp headers:\")\n",
    "print(ios_header)\n",
    "print(\"\\nRows 1 - 3\")\n",
    "explore_data(ios_data, 0, 3, True)"
   ]
  },
  {
   "cell_type": "markdown",
   "metadata": {},
   "source": [
    "- Note the number of rows and cols for both datasets are noted."
   ]
  },
  {
   "cell_type": "markdown",
   "metadata": {},
   "source": [
    "# Clean Data\n",
    "- Detect inaccurate data and correct (or remove) it\n",
    "- Detect duplicate data and remove them\n",
    "- Remove non-English apps"
   ]
  },
  {
   "cell_type": "markdown",
   "metadata": {},
   "source": [
    "[Google Play discussion for errors](https://www.kaggle.com/lava18/google-play-store-apps/discussion)"
   ]
  },
  {
   "cell_type": "markdown",
   "metadata": {},
   "source": [
    "Incorrect row found."
   ]
  },
  {
   "cell_type": "code",
   "execution_count": 4,
   "metadata": {
    "collapsed": false
   },
   "outputs": [
    {
     "name": "stdout",
     "output_type": "stream",
     "text": [
      "['App', 'Category', 'Rating', 'Reviews', 'Size', 'Installs', 'Type', 'Price', 'Content Rating', 'Genres', 'Last Updated', 'Current Ver', 'Android Ver']\n",
      "['Life Made WI-Fi Touchscreen Photo Frame', '1.9', '19', '3.0M', '1,000+', 'Free', '0', 'Everyone', '', 'February 11, 2018', '1.0.19', '4.0 and up']\n"
     ]
    }
   ],
   "source": [
    "#check found information\n",
    "print(andriod_header)\n",
    "print(andriod_data[10472])"
   ]
  },
  {
   "cell_type": "markdown",
   "metadata": {},
   "source": [
    "We must delete this row because this app has a rating above 5 (max rating score is 5 in Google Play)"
   ]
  },
  {
   "cell_type": "code",
   "execution_count": 5,
   "metadata": {
    "collapsed": false
   },
   "outputs": [
    {
     "name": "stdout",
     "output_type": "stream",
     "text": [
      "10841\n",
      "10840\n"
     ]
    }
   ],
   "source": [
    "print(len(andriod_data))\n",
    "del andriod_data[10472]\n",
    "print(len(andriod_data))"
   ]
  },
  {
   "cell_type": "markdown",
   "metadata": {},
   "source": [
    "Duplicate rows found."
   ]
  },
  {
   "cell_type": "code",
   "execution_count": 6,
   "metadata": {
    "collapsed": false
   },
   "outputs": [
    {
     "name": "stdout",
     "output_type": "stream",
     "text": [
      "Number of duplicate apps/rows: 1181\n"
     ]
    }
   ],
   "source": [
    "#Check found information\n",
    "duplicate_apps = []\n",
    "unique_apps = []\n",
    "\n",
    "for row in andriod_data:\n",
    "    app_name = row[0]\n",
    "    if app_name in unique_apps:\n",
    "        duplicate_apps.append(app_name)\n",
    "    else:\n",
    "        unique_apps.append(app_name)\n",
    "print(\"Number of duplicate apps/rows:\", len(duplicate_apps))"
   ]
  },
  {
   "cell_type": "markdown",
   "metadata": {},
   "source": [
    "Must delete extra rows, but how? "
   ]
  },
  {
   "cell_type": "code",
   "execution_count": 7,
   "metadata": {
    "collapsed": false
   },
   "outputs": [
    {
     "name": "stdout",
     "output_type": "stream",
     "text": [
      "['App', 'Category', 'Rating', 'Reviews', 'Size', 'Installs', 'Type', 'Price', 'Content Rating', 'Genres', 'Last Updated', 'Current Ver', 'Android Ver'] \n",
      "\n",
      "['Instagram', 'SOCIAL', '4.5', '66577313', 'Varies with device', '1,000,000,000+', 'Free', '0', 'Teen', 'Social', 'July 31, 2018', 'Varies with device', 'Varies with device']\n",
      "['Instagram', 'SOCIAL', '4.5', '66577446', 'Varies with device', '1,000,000,000+', 'Free', '0', 'Teen', 'Social', 'July 31, 2018', 'Varies with device', 'Varies with device']\n",
      "['Instagram', 'SOCIAL', '4.5', '66577313', 'Varies with device', '1,000,000,000+', 'Free', '0', 'Teen', 'Social', 'July 31, 2018', 'Varies with device', 'Varies with device']\n",
      "['Instagram', 'SOCIAL', '4.5', '66509917', 'Varies with device', '1,000,000,000+', 'Free', '0', 'Teen', 'Social', 'July 31, 2018', 'Varies with device', 'Varies with device']\n"
     ]
    }
   ],
   "source": [
    "print(andriod_header, \"\\n\")\n",
    "for row in andriod_data:\n",
    "    app_name = row[0]\n",
    "    if app_name == \"Instagram\":\n",
    "        print(row)"
   ]
  },
  {
   "cell_type": "markdown",
   "metadata": {},
   "source": [
    "Notice: we can take the row that has the highest reviews for more accurate ratings."
   ]
  },
  {
   "cell_type": "code",
   "execution_count": 8,
   "metadata": {
    "collapsed": false
   },
   "outputs": [
    {
     "name": "stdout",
     "output_type": "stream",
     "text": [
      "Expected length of dataset: 9659\n"
     ]
    }
   ],
   "source": [
    "print(\"Expected length of dataset:\", len(andriod_data) - len(duplicate_apps))"
   ]
  },
  {
   "cell_type": "code",
   "execution_count": 9,
   "metadata": {
    "collapsed": false
   },
   "outputs": [
    {
     "name": "stdout",
     "output_type": "stream",
     "text": [
      "Actual length of dataset: 9659\n"
     ]
    }
   ],
   "source": [
    "new_data_dict = {}\n",
    "\n",
    "for row in andriod_data:\n",
    "    app_name = row[0]\n",
    "    reviews = row[3]\n",
    "    \n",
    "    if app_name in new_data_dict and new_data_dict[app_name] < reviews:\n",
    "        new_data_dict[app_name] = reviews\n",
    "    elif app_name not in new_data_dict:\n",
    "        new_data_dict[app_name] = reviews\n",
    "        \n",
    "print(\"Actual length of dataset:\", len(new_data_dict))"
   ]
  },
  {
   "cell_type": "markdown",
   "metadata": {},
   "source": [
    "The expected and actual length match!!!"
   ]
  },
  {
   "cell_type": "markdown",
   "metadata": {},
   "source": [
    "Processing clean dataset for Android apps . . ."
   ]
  },
  {
   "cell_type": "code",
   "execution_count": 10,
   "metadata": {
    "collapsed": false
   },
   "outputs": [],
   "source": [
    "andriod_data_clean = []\n",
    "temp_app_names = []\n",
    "for row in andriod_data:\n",
    "    app_name = row[0]\n",
    "    reviews = row[3]\n",
    "    if (new_data_dict[app_name] == reviews) and (app_name not in temp_app_names):\n",
    "        andriod_data_clean.append(row)\n",
    "        temp_app_names.append(app_name)"
   ]
  },
  {
   "cell_type": "code",
   "execution_count": 11,
   "metadata": {
    "collapsed": false
   },
   "outputs": [
    {
     "name": "stdout",
     "output_type": "stream",
     "text": [
      "['App', 'Category', 'Rating', 'Reviews', 'Size', 'Installs', 'Type', 'Price', 'Content Rating', 'Genres', 'Last Updated', 'Current Ver', 'Android Ver'] \n",
      "\n",
      "['Photo Editor & Candy Camera & Grid & ScrapBook', 'ART_AND_DESIGN', '4.1', '159', '19M', '10,000+', 'Free', '0', 'Everyone', 'Art & Design', 'January 7, 2018', '1.0.0', '4.0.3 and up']\n",
      "\n",
      "\n",
      "['U Launcher Lite – FREE Live Cool Themes, Hide Apps', 'ART_AND_DESIGN', '4.7', '87510', '8.7M', '5,000,000+', 'Free', '0', 'Everyone', 'Art & Design', 'August 1, 2018', '1.2.4', '4.0.3 and up']\n",
      "\n",
      "\n",
      "['Sketch - Draw & Paint', 'ART_AND_DESIGN', '4.5', '215644', '25M', '50,000,000+', 'Free', '0', 'Teen', 'Art & Design', 'June 8, 2018', 'Varies with device', '4.2 and up']\n",
      "\n",
      "\n",
      "Number of rows: 9659\n",
      "Number of columns: 13\n"
     ]
    }
   ],
   "source": [
    "#check by explore\n",
    "print(andriod_header, \"\\n\")\n",
    "explore_data(andriod_data_clean, 0, 3, True)"
   ]
  },
  {
   "cell_type": "markdown",
   "metadata": {},
   "source": [
    "We have the expected rows!!!"
   ]
  },
  {
   "cell_type": "markdown",
   "metadata": {},
   "source": [
    "Must check if each app is English."
   ]
  },
  {
   "cell_type": "code",
   "execution_count": 12,
   "metadata": {
    "collapsed": true
   },
   "outputs": [],
   "source": [
    "def is_english(string):\n",
    "    non_ascii = 0\n",
    "    for i in string:\n",
    "        if ord(i) > 127:\n",
    "            non_ascii += 1\n",
    "    if non_ascii > 3:\n",
    "        return False\n",
    "    else:\n",
    "        return True"
   ]
  },
  {
   "cell_type": "markdown",
   "metadata": {},
   "source": [
    "Filtering apps for both data sets . . ."
   ]
  },
  {
   "cell_type": "code",
   "execution_count": 13,
   "metadata": {
    "collapsed": false
   },
   "outputs": [],
   "source": [
    "andriod_updated = []\n",
    "ios_updated = []\n",
    "\n",
    "#For Google Play apps\n",
    "for row in andriod_data_clean:\n",
    "    name = row[0]\n",
    "    if is_english(name):\n",
    "        andriod_updated.append(row)\n",
    "\n",
    "#For App Store apps\n",
    "for row in ios_data:\n",
    "    name = row[1]\n",
    "    if is_english(name):\n",
    "        ios_updated.append(row)"
   ]
  },
  {
   "cell_type": "markdown",
   "metadata": {},
   "source": [
    "Check for total apps left . . ."
   ]
  },
  {
   "cell_type": "code",
   "execution_count": 14,
   "metadata": {
    "collapsed": false,
    "scrolled": true
   },
   "outputs": [
    {
     "name": "stdout",
     "output_type": "stream",
     "text": [
      "Google Play\n",
      "\n",
      "['Photo Editor & Candy Camera & Grid & ScrapBook', 'ART_AND_DESIGN', '4.1', '159', '19M', '10,000+', 'Free', '0', 'Everyone', 'Art & Design', 'January 7, 2018', '1.0.0', '4.0.3 and up']\n",
      "\n",
      "\n",
      "['U Launcher Lite – FREE Live Cool Themes, Hide Apps', 'ART_AND_DESIGN', '4.7', '87510', '8.7M', '5,000,000+', 'Free', '0', 'Everyone', 'Art & Design', 'August 1, 2018', '1.2.4', '4.0.3 and up']\n",
      "\n",
      "\n",
      "['Sketch - Draw & Paint', 'ART_AND_DESIGN', '4.5', '215644', '25M', '50,000,000+', 'Free', '0', 'Teen', 'Art & Design', 'June 8, 2018', 'Varies with device', '4.2 and up']\n",
      "\n",
      "\n",
      "Number of rows: 9614\n",
      "Number of columns: 13\n",
      "\n",
      "\n",
      "App Store\n",
      "\n",
      "['284882215', 'Facebook', '389879808', 'USD', '0.0', '2974676', '212', '3.5', '3.5', '95.0', '4+', 'Social Networking', '37', '1', '29', '1']\n",
      "\n",
      "\n",
      "['389801252', 'Instagram', '113954816', 'USD', '0.0', '2161558', '1289', '4.5', '4.0', '10.23', '12+', 'Photo & Video', '37', '0', '29', '1']\n",
      "\n",
      "\n",
      "['529479190', 'Clash of Clans', '116476928', 'USD', '0.0', '2130805', '579', '4.5', '4.5', '9.24.12', '9+', 'Games', '38', '5', '18', '1']\n",
      "\n",
      "\n",
      "Number of rows: 6183\n",
      "Number of columns: 16\n"
     ]
    }
   ],
   "source": [
    "print(\"Google Play\\n\")\n",
    "explore_data(andriod_updated, 0, 3, True)\n",
    "\n",
    "print(\"\\n\\nApp Store\\n\")\n",
    "explore_data(ios_updated, 0, 3, True)"
   ]
  },
  {
   "cell_type": "markdown",
   "metadata": {},
   "source": [
    "Total:\n",
    "- 9614 Andriod apps\n",
    "- 6183 iOS apps"
   ]
  },
  {
   "cell_type": "markdown",
   "metadata": {},
   "source": [
    "Finding the free apps!"
   ]
  },
  {
   "cell_type": "code",
   "execution_count": 16,
   "metadata": {
    "collapsed": false
   },
   "outputs": [
    {
     "name": "stdout",
     "output_type": "stream",
     "text": [
      "Total Google Play apps: 8862\n",
      "Total App Store apps: 3222\n"
     ]
    }
   ],
   "source": [
    "android_final = []\n",
    "ios_final = []\n",
    "\n",
    "#Google Play\n",
    "for row in andriod_updated:\n",
    "    price = row[7]\n",
    "    if price == '0':\n",
    "        android_final.append(row)\n",
    "        \n",
    "#App Store        \n",
    "for row in ios_updated:\n",
    "    price = row[4]\n",
    "    if price =='0.0':\n",
    "        ios_final.append(row)\n",
    "        \n",
    "print(\"Total Google Play apps:\", len(android_final))\n",
    "print(\"Total App Store apps:\", len(ios_final))"
   ]
  },
  {
   "cell_type": "markdown",
   "metadata": {},
   "source": [
    "# Analyze Data\n",
    "- Finding most common app by genre\n",
    "- Finding most popular app by genre on Google Play\n",
    "- Finding most popular app by genre on App Store"
   ]
  },
  {
   "cell_type": "markdown",
   "metadata": {},
   "source": [
    "Building a frequency table to analyze data . . . "
   ]
  },
  {
   "cell_type": "code",
   "execution_count": 17,
   "metadata": {
    "collapsed": true
   },
   "outputs": [],
   "source": [
    "def freq_table(dataset, index):\n",
    "    table = {}\n",
    "    total = 0\n",
    "    \n",
    "    for row in dataset:\n",
    "        total += 1\n",
    "        value = row[index]\n",
    "        if value in table:\n",
    "            table[value] += 1\n",
    "        else:\n",
    "            table[value] = 1\n",
    "    \n",
    "    table_percentages = {}\n",
    "    for key in table:\n",
    "        percentage = (table[key] / total) * 100\n",
    "        table_percentages[key] = percentage \n",
    "    \n",
    "    return table_percentages"
   ]
  },
  {
   "cell_type": "markdown",
   "metadata": {},
   "source": [
    "Building a display to examine frequency of a dataset . . ."
   ]
  },
  {
   "cell_type": "code",
   "execution_count": 18,
   "metadata": {
    "collapsed": true
   },
   "outputs": [],
   "source": [
    "def display_table(dataset, index):\n",
    "    table = freq_table(dataset, index)\n",
    "    table_display = []\n",
    "    for key in table:\n",
    "        key_val_as_tuple = (table[key], key)\n",
    "        table_display.append(key_val_as_tuple)\n",
    "\n",
    "    table_sorted = sorted(table_display, reverse = True)\n",
    "    for entry in table_sorted:\n",
    "        print(entry[1], ':', entry[0])"
   ]
  },
  {
   "cell_type": "markdown",
   "metadata": {},
   "source": [
    "Explore/examine . . ."
   ]
  },
  {
   "cell_type": "code",
   "execution_count": 20,
   "metadata": {
    "collapsed": false
   },
   "outputs": [
    {
     "name": "stdout",
     "output_type": "stream",
     "text": [
      "Andriod\n",
      "\n",
      " ['App', 'Category', 'Rating', 'Reviews', 'Size', 'Installs', 'Type', 'Price', 'Content Rating', 'Genres', 'Last Updated', 'Current Ver', 'Android Ver'] \n",
      "\n",
      "FAMILY : 18.934777702550214\n",
      "GAME : 9.693071541412774\n",
      "TOOLS : 8.451816745655607\n",
      "BUSINESS : 4.5926427443015125\n",
      "LIFESTYLE : 3.9043105393816293\n",
      "PRODUCTIVITY : 3.8930264048747465\n",
      "FINANCE : 3.7011961182577298\n",
      "MEDICAL : 3.5206499661475967\n",
      "SPORTS : 3.39652448657188\n",
      "PERSONALIZATION : 3.3175355450236967\n",
      "COMMUNICATION : 3.238546603475513\n",
      "HEALTH_AND_FITNESS : 3.080568720379147\n",
      "PHOTOGRAPHY : 2.945159106296547\n",
      "NEWS_AND_MAGAZINES : 2.798465357707064\n",
      "SOCIAL : 2.663055743624464\n",
      "TRAVEL_AND_LOCAL : 2.335815842924848\n",
      "SHOPPING : 2.2455427668697814\n",
      "BOOKS_AND_REFERENCE : 2.143985556307831\n",
      "DATING : 1.8618821936357481\n",
      "VIDEO_PLAYERS : 1.7941773865944481\n",
      "MAPS_AND_NAVIGATION : 1.399232678853532\n",
      "FOOD_AND_DRINK : 1.2412547957571656\n",
      "EDUCATION : 1.1735499887158656\n",
      "ENTERTAINMENT : 0.9591514330850823\n",
      "LIBRARIES_AND_DEMO : 0.9365831640713158\n",
      "AUTO_AND_VEHICLES : 0.9252990295644324\n",
      "HOUSE_AND_HOME : 0.8237418190024826\n",
      "WEATHER : 0.8011735499887158\n",
      "EVENTS : 0.7109004739336493\n",
      "PARENTING : 0.6544798013992327\n",
      "ART_AND_DESIGN : 0.6431956668923494\n",
      "COMICS : 0.6206273978785828\n",
      "BEAUTY : 0.598059128864816\n",
      "-------------------------------\n",
      "\n",
      "iOS\n",
      "\n",
      " ['id', 'track_name', 'size_bytes', 'currency', 'price', 'rating_count_tot', 'rating_count_ver', 'user_rating', 'user_rating_ver', 'ver', 'cont_rating', 'prime_genre', 'sup_devices.num', 'ipadSc_urls.num', 'lang.num', 'vpp_lic'] \n",
      "\n",
      "Games : 58.16263190564867\n",
      "Entertainment : 7.883302296710118\n",
      "Photo & Video : 4.9658597144630665\n",
      "Education : 3.662321539416512\n",
      "Social Networking : 3.2898820608317814\n",
      "Shopping : 2.60707635009311\n",
      "Utilities : 2.5139664804469275\n",
      "Sports : 2.1415270018621975\n",
      "Music : 2.0484171322160147\n",
      "Health & Fitness : 2.0173805090006205\n",
      "Productivity : 1.7380509000620732\n",
      "Lifestyle : 1.5828677839851024\n",
      "News : 1.3345747982619491\n",
      "Travel : 1.2414649286157666\n",
      "Finance : 1.1173184357541899\n",
      "Weather : 0.8690254500310366\n",
      "Food & Drink : 0.8069522036002483\n",
      "Reference : 0.5586592178770949\n",
      "Business : 0.5276225946617008\n",
      "Book : 0.4345127250155183\n",
      "Navigation : 0.186219739292365\n",
      "Medical : 0.186219739292365\n",
      "Catalogs : 0.12414649286157665\n"
     ]
    }
   ],
   "source": [
    "\n",
    "print(\"Andriod\\n\\n\", andriod_header, \"\\n\")\n",
    "display_table(andriod_final, 1) #Category column\n",
    "print(\"-------------------------------\\n\")\n",
    "print(\"iOS\\n\\n\", ios_header, \"\\n\")\n",
    "display_table(ios_final, -5) #prime_genre column"
   ]
  },
  {
   "cell_type": "markdown",
   "metadata": {},
   "source": [
    "Foundings in Andriod:\n",
    "- More columns compared to the iOS dataset\n",
    "- balanced landscape of practical and fun apps \n",
    "\n",
    "Foundings in iOS:\n",
    "- 58% are in games, with entertainment runner-up\n",
    "- fun apps dominate compared to practical apps"
   ]
  },
  {
   "cell_type": "markdown",
   "metadata": {},
   "source": [
    "For Andriod: Calculate user installation . . ."
   ]
  },
  {
   "cell_type": "code",
   "execution_count": 21,
   "metadata": {
    "collapsed": false,
    "scrolled": true
   },
   "outputs": [
    {
     "name": "stdout",
     "output_type": "stream",
     "text": [
      "\n",
      "For Andriod apps . . . \n",
      "\n",
      "\n",
      "TRAVEL_AND_LOCAL : 13984077.710144928\n",
      "GAME : 15560965.599534342\n",
      "PARENTING : 542603.6206896552\n",
      "EDUCATION : 1820673.076923077\n",
      "WEATHER : 5074486.197183099\n",
      "BUSINESS : 1712290.1474201474\n",
      "AUTO_AND_VEHICLES : 647317.8170731707\n",
      "HOUSE_AND_HOME : 1331540.5616438356\n",
      "SHOPPING : 7036877.311557789\n",
      "SOCIAL : 23253652.127118643\n",
      "ENTERTAINMENT : 11640705.88235294\n",
      "EVENTS : 253542.22222222222\n",
      "TOOLS : 10682301.033377837\n",
      "NEWS_AND_MAGAZINES : 9549178.467741935\n",
      "MEDICAL : 120616.48717948717\n",
      "COMICS : 817657.2727272727\n",
      "VIDEO_PLAYERS : 24727872.452830188\n",
      "FOOD_AND_DRINK : 1924897.7363636363\n",
      "MAPS_AND_NAVIGATION : 4056941.7741935486\n",
      "DATING : 854028.8303030303\n",
      "HEALTH_AND_FITNESS : 4188821.9853479853\n",
      "PERSONALIZATION : 5201482.6122448975\n",
      "COMMUNICATION : 38456119.167247385\n",
      "LIFESTYLE : 1437816.2687861272\n",
      "PHOTOGRAPHY : 17805627.643678162\n",
      "FINANCE : 1387692.475609756\n",
      "ART_AND_DESIGN : 1986335.0877192982\n",
      "PRODUCTIVITY : 16787331.344927534\n",
      "BEAUTY : 513151.88679245283\n",
      "SPORTS : 3638640.1428571427\n",
      "LIBRARIES_AND_DEMO : 638503.734939759\n",
      "BOOKS_AND_REFERENCE : 8767811.894736841\n",
      "FAMILY : 3694276.334922527\n"
     ]
    }
   ],
   "source": [
    "print(\"\\nFor Andriod apps . . . \\n\\n\")\n",
    "categories_android = freq_table(android_final, 1)\n",
    "\n",
    "for category in categories_android:\n",
    "    total = 0\n",
    "    len_category = 0\n",
    "    for app in android_final:\n",
    "        category_app = app[1]\n",
    "        if category_app == category:            \n",
    "            n_installs = app[5]\n",
    "            n_installs = n_installs.replace(',', '')\n",
    "            n_installs = n_installs.replace('+', '')\n",
    "            total += float(n_installs)\n",
    "            len_category += 1\n",
    "    avg_n_installs = total / len_category\n",
    "    print(category, ':', avg_n_installs)"
   ]
  },
  {
   "cell_type": "markdown",
   "metadata": {},
   "source": [
    "Popular app findings in Andriod:\n",
    "- Communication apps have the most installs, which may be skewed\n",
    "- Social Network, Productivity seem very popular (mostly dominated by giant companies)\n",
    "- Book and Reference genre is promising; there are various apps for software processing, reading ebooks, dictionaries, etc"
   ]
  },
  {
   "cell_type": "markdown",
   "metadata": {},
   "source": [
    "For iOS: Calculate the average number of user ratings per app genre  . . ."
   ]
  },
  {
   "cell_type": "code",
   "execution_count": 22,
   "metadata": {
    "collapsed": false
   },
   "outputs": [
    {
     "name": "stdout",
     "output_type": "stream",
     "text": [
      "\n",
      "For iOS apps . . . \n",
      "\n",
      "\n",
      "Medical : 612.0\n",
      "Shopping : 26919.690476190477\n",
      "Lifestyle : 16485.764705882353\n",
      "Sports : 23008.898550724636\n",
      "Social Networking : 71548.34905660378\n",
      "Productivity : 21028.410714285714\n",
      "Travel : 28243.8\n",
      "Utilities : 18684.456790123455\n",
      "Book : 39758.5\n",
      "Reference : 74942.11111111111\n",
      "Education : 7003.983050847458\n",
      "Navigation : 86090.33333333333\n",
      "Music : 57326.530303030304\n",
      "Business : 7491.117647058823\n",
      "Games : 22788.6696905016\n",
      "Entertainment : 14029.830708661417\n",
      "Catalogs : 4004.0\n",
      "Food & Drink : 33333.92307692308\n",
      "Finance : 31467.944444444445\n",
      "Weather : 52279.892857142855\n",
      "Health & Fitness : 23298.015384615384\n",
      "News : 21248.023255813954\n",
      "Photo & Video : 28441.54375\n"
     ]
    }
   ],
   "source": [
    "print(\"\\nFor iOS apps . . . \\n\\n\")\n",
    "genres_ios = freq_table(ios_final, -5)\n",
    "\n",
    "for genre in genres_ios:\n",
    "    total = 0\n",
    "    len_genre = 0\n",
    "    for app in ios_final:\n",
    "        genre_app = app[-5]\n",
    "        if genre_app == genre:            \n",
    "            n_ratings = float(app[5])\n",
    "            total += n_ratings\n",
    "            len_genre += 1\n",
    "    avg_n_ratings = total / len_genre\n",
    "    print(genre, ':', avg_n_ratings)"
   ]
  },
  {
   "cell_type": "markdown",
   "metadata": {},
   "source": [
    "Popular app findings in iOS:\n",
    "- Navigation have the highest number of user reviews \n",
    "- Social Networking and Music apps also seem popular \n",
    "- Other apps are more popular than it seems (compared to Games before)\n",
    "- The market may be saturated with fun-apps\n",
    "- Practical apps stand out have a larger chance in standing out for attracting users"
   ]
  },
  {
   "cell_type": "markdown",
   "metadata": {},
   "source": [
    "# Conclusion\n",
    "- this project/notebook cleaned and analyzed data from the Google Play and App Store of mobile devices\n",
    "- the goal was to understand what kind of apps attract users when browsing mobile apps"
   ]
  }
 ],
 "metadata": {
  "kernelspec": {
   "display_name": "Python 3",
   "language": "python",
   "name": "python3"
  },
  "language_info": {
   "codemirror_mode": {
    "name": "ipython",
    "version": 3
   },
   "file_extension": ".py",
   "mimetype": "text/x-python",
   "name": "python",
   "nbconvert_exporter": "python",
   "pygments_lexer": "ipython3",
   "version": "3.4.3"
  }
 },
 "nbformat": 4,
 "nbformat_minor": 2
}
